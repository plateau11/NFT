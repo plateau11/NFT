{
 "cells": [
  {
   "cell_type": "code",
   "execution_count": 15,
   "id": "68abf559-7b8c-4327-b51a-bc78d638ef37",
   "metadata": {},
   "outputs": [
    {
     "name": "stdin",
     "output_type": "stream",
     "text": [
      "Select option a or b a\n"
     ]
    },
    {
     "name": "stdout",
     "output_type": "stream",
     "text": [
      "Total reward:  1\n"
     ]
    },
    {
     "name": "stdin",
     "output_type": "stream",
     "text": [
      "Press 1 to continue 1\n",
      "Select option a or b b\n"
     ]
    },
    {
     "name": "stdout",
     "output_type": "stream",
     "text": [
      "Total reward:  0\n"
     ]
    },
    {
     "name": "stdin",
     "output_type": "stream",
     "text": [
      "Press 1 to continue 1\n",
      "Select option a or b a\n"
     ]
    },
    {
     "name": "stdout",
     "output_type": "stream",
     "text": [
      "Total reward:  1\n"
     ]
    },
    {
     "name": "stdin",
     "output_type": "stream",
     "text": [
      "Press 1 to continue 1\n",
      "Select option a or b b\n"
     ]
    },
    {
     "name": "stdout",
     "output_type": "stream",
     "text": [
      "Total reward:  0\n"
     ]
    },
    {
     "name": "stdin",
     "output_type": "stream",
     "text": [
      "Press 1 to continue 1\n",
      "Select option a or b b\n"
     ]
    },
    {
     "name": "stdout",
     "output_type": "stream",
     "text": [
      "Total reward:  -1\n"
     ]
    },
    {
     "name": "stdin",
     "output_type": "stream",
     "text": [
      "Press 1 to continue 2\n"
     ]
    }
   ],
   "source": [
    "memory_table={\"a\":1,\"b\":-1} #a is for ant that doesn't sting\n",
    "desire = \"true\"\n",
    "cumulative_reward = 0\n",
    "while(desire==\"true\"):\n",
    "    var = input(\"Select option a or b\")\n",
    "    if(var==\"a\"):\n",
    "        cumulative_reward+=memory_table[var]\n",
    "    else:\n",
    "        cumulative_reward+=memory_table[var]\n",
    "    print(\"Total reward: \",cumulative_reward)\n",
    "    var2 = input(\"Press 1 to continue\")\n",
    "    if(var2==\"1\"):\n",
    "        desire = \"true\"\n",
    "    else:\n",
    "        desire = \"false\"    "
   ]
  },
  {
   "cell_type": "code",
   "execution_count": null,
   "id": "59e7448d-9329-4675-8179-18cf07601000",
   "metadata": {},
   "outputs": [],
   "source": []
  }
 ],
 "metadata": {
  "kernelspec": {
   "display_name": "Python 3 (ipykernel)",
   "language": "python",
   "name": "python3"
  },
  "language_info": {
   "codemirror_mode": {
    "name": "ipython",
    "version": 3
   },
   "file_extension": ".py",
   "mimetype": "text/x-python",
   "name": "python",
   "nbconvert_exporter": "python",
   "pygments_lexer": "ipython3",
   "version": "3.11.7"
  }
 },
 "nbformat": 4,
 "nbformat_minor": 5
}
